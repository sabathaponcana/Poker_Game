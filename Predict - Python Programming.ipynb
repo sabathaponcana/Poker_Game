{
 "cells": [
  {
   "cell_type": "markdown",
   "metadata": {
    "colab_type": "text",
    "id": "Y-iHJCekZ47N"
   },
   "source": [
    "# Project: Poker\n",
    "\n",
    "You're appointed as a Software Developer at a new Python Casino in the Magaliesberg mountains.\n",
    "\n",
    "Your first task is to build a Poker game in Python!"
   ]
  },
  {
   "cell_type": "markdown",
   "metadata": {
    "colab_type": "text",
    "id": "4OBoq2YHkZjj"
   },
   "source": [
    "***\n",
    "*** CODE OF CONDUCT: ***\n",
    "\n",
    "- You may use online resources for help, but you may not directly copy and paste any answers that are not your own.\n",
    "- You may not submit anyone else's work, but your own.\n",
    "- Every project will be sent through plagiarism detection software, and compared with every other project in the class.  If you are suspected of plagiarism you will receive zero for the assignment, together with a first disciplinary warning.\n",
    "\n",
    "***\n",
    "*** PROJECT RULES: ***\n",
    "\n",
    "- You may not import any external packages - all of the functions need to be solved ***WITHOUT THE USE OF EXTERNAL MODULES***.\n",
    "- ***Most importantly:*** your functions need to **`return`** the answer (not just print it out).\n",
    "- ***Do not add or remove any cells from this notebook***.  Use another notebook to experiment in (or in which to do your workings), but your submission may not have any additional cells or functions. \n",
    "- Only fill in code where the **`#YOUR CODE`**  tags appear. No code outside these areas (or outside the given functions) will be marked.\n",
    "\n"
   ]
  },
  {
   "cell_type": "markdown",
   "metadata": {
    "colab_type": "text",
    "id": "TMmeHDJl5NoZ"
   },
   "source": [
    "![playing card deck](https://upload.wikimedia.org/wikipedia/commons/thumb/8/81/English_pattern_playing_cards_deck.svg/1000px-English_pattern_playing_cards_deck.svg.png)\n",
    "\n",
    "## Introduction\n",
    "A deck of playing cards typically has a **`suit`** and a **`rank`**.\n",
    "The possible values for `suit`s are:"
   ]
  },
  {
   "cell_type": "code",
   "execution_count": 35,
   "metadata": {
    "colab": {
     "autoexec": {
      "startup": false,
      "wait_interval": 0
     }
    },
    "colab_type": "code",
    "id": "NftSG_pP5gew"
   },
   "outputs": [],
   "source": [
    "suits = [\"clubs\", \"diamonds\", \"hearts\", \"spades\"]"
   ]
  },
  {
   "cell_type": "markdown",
   "metadata": {
    "colab_type": "text",
    "id": "zQSn2bqY5kOk"
   },
   "source": [
    "And the possible values for `rank`s (in **order of their strength**) are:"
   ]
  },
  {
   "cell_type": "code",
   "execution_count": 36,
   "metadata": {
    "colab": {
     "autoexec": {
      "startup": false,
      "wait_interval": 0
     }
    },
    "colab_type": "code",
    "id": "nkHx467f5j5Q"
   },
   "outputs": [],
   "source": [
    "ranks = [\"2\", \"3\", \"4\", \"5\", \"6\", \"7\", \"8\", \"9\", \"10\", \"jack\", \"queen\", \"king\", \"ace\"]"
   ]
  },
  {
   "cell_type": "markdown",
   "metadata": {
    "colab_type": "text",
    "id": "2ejaKHQH59B0"
   },
   "source": [
    "*** IMPORTANT: ***\n",
    "Note the order and spelling of the above suits and ranks.  Be consistent and use the spelling (and capitalisation) used above throughout this project."
   ]
  },
  {
   "cell_type": "markdown",
   "metadata": {
    "colab_type": "text",
    "id": "53GUiWszhw9R"
   },
   "source": [
    "## Question 1:  Card `class`\n",
    "\n",
    "Build a Python Class, called **`Card`**, which has:\n",
    "- 2 ***class*** properties (both should be lists of `string`s):\n",
    "  - `suitnames = [\"clubs\", \"diamonds\", \"hearts\", \"spades\"]`\n",
    "  - `ranknames = [\"2\", \"3\", \"4\", \"5\", \"6\", \"7\", \"8\", \"9\", \"10\", \"jack\", \"queen\", \"king\", \"ace\"]`\n",
    "- 2 ***instance*** properties (both should be **`int`**s):\n",
    "  - `suit`, which is a number from 0 to 3:\n",
    "    - 0 representing \"clubs\"\n",
    "    - 1 representing \"diamonds\"\n",
    "    - 2 representing \"hearts\"\n",
    "    - 3 representing \"spades\"\n",
    "  - `rank`, which is a number from 0 to 12, where a value of:\n",
    "    - 2 represents a rank of \"2\"\n",
    "    - 3 represents a rank of \"3\"\n",
    "    - 4 represents a rank of \"4\"\n",
    "    - 5 represents a rank of \"5\"\n",
    "    - 6 represents a rank of \"6\"\n",
    "    - 7 represents a rank of \"7\"\n",
    "    - 8 represents a rank of \"8\"\n",
    "    - 9 represents a rank of \"9\"\n",
    "    - 10 represents a rank of \"10\"\n",
    "    - 11 represents a rank of \"jack\"\n",
    "    - 12 represents a rank of \"queen\"\n",
    "    - 13 represents a rank of \"king\"\n",
    "    - 14 represents a rank of \"ace\"\n",
    "    \n",
    "    Notice that the order coincides with the order of the `ranknames` class property.\n",
    "\n",
    "<br>\n",
    "\n",
    "Your code should be able to do the following:\n",
    "\n",
    "- Override the **`__init__`** method to enable the creation of a **`Card`** instance by calling $ \\ \\ \\ $ **`Card(rank, suit)`** $\\ \\ $ where **`rank`** and **`suit`** are appropriate `int`s.\n",
    "\n",
    "- Override the **`__str__`** method to **`return`** a string in the format:  $ \\ \\ \\ $ **`'rank of suit'`** $ \\ \\ \\ \\ \\ $ (where `rank` and `suit` are the `string` versions of the rank and suit instance properties of the specific `Card` instance - i.e. you need to look up the rank and suit properties from the `suitnames` and `ranknames` class properties). \n",
    "\n",
    "- Override the **`__add__`** method, so that adding two cards together, **`return`**s the sum of the ***`rank`***s of the **`Card`**s being added.\n",
    "\n",
    "- Override the **`__gt__`** method, so that comparing two cards, effectively compares their ***`rank`***.  I.e. a card with rank 2 will always be less than a card with rank 3 (e.g. a queen of hearts > jack of hearts)\n",
    "\n",
    "A rough outline, with the class properties filled in, has been given to help you. Complete the `class` definition to satisfy the contraints above:\n"
   ]
  },
  {
   "cell_type": "code",
   "execution_count": 77,
   "metadata": {
    "colab": {
     "autoexec": {
      "startup": false,
      "wait_interval": 0
     }
    },
    "colab_type": "code",
    "deletable": false,
    "id": "o3HGpkBGZZcN",
    "nbgrader": {
     "checksum": "8d97fefeda6411b603495b8f8511a42e",
     "grade": false,
     "grade_id": "cell-cfb6d4dbd60f7895",
     "locked": false,
     "schema_version": 1,
     "solution": true
    }
   },
   "outputs": [],
   "source": [
    "### START QUESTION 1\n",
    "\n",
    "class Card:\n",
    "  \n",
    "    suitnames = [\"clubs\", \"diamonds\", \"hearts\", \"spades\"]\n",
    "    ranknames = [\"2\", \"3\", \"4\", \"5\", \"6\", \"7\", \"8\", \"9\", \"10\", \"jack\", \"queen\", \"king\", \"ace\"]\n",
    "\n",
    "    # YOUR CODE HERE\n",
    "    \n",
    "    def __init__(self,rank,suit):\n",
    "        \n",
    "        self.rank = rank\n",
    "        self.suit = suit\n",
    "       \n",
    "        \n",
    "    def __str__(self):\n",
    "        return self.ranknames[self.rank - 2] + ' of ' + self.suitnames[self.suit]\n",
    "    \n",
    "    def __add__(self,other):\n",
    "        \n",
    "        return self.rank + other.rank\n",
    "    \n",
    "    def __gt__(self,other):\n",
    "        \n",
    "        return self.rank > other.rank\n",
    "            \n",
    "    \n",
    "    \n",
    "### END QUESTION 1"
   ]
  },
  {
   "cell_type": "code",
   "execution_count": 78,
   "metadata": {
    "colab": {
     "autoexec": {
      "startup": false,
      "wait_interval": 0
     },
     "base_uri": "https://localhost:8080/",
     "height": 34,
     "output_extras": [
      {
       "item_id": 1
      }
     ]
    },
    "colab_type": "code",
    "executionInfo": {
     "elapsed": 1422,
     "status": "ok",
     "timestamp": 1521642592782,
     "user": {
      "displayName": "Rayno Mostert",
      "photoUrl": "https://lh3.googleusercontent.com/a/default-user=s128",
      "userId": "107056986412592388577"
     },
     "user_tz": -120
    },
    "id": "eAPFgCVAj7JQ",
    "outputId": "97087579-621b-4599-fc5e-7b5f87ca3c5f"
   },
   "outputs": [
    {
     "name": "stdout",
     "output_type": "stream",
     "text": [
      "ace of spades\n"
     ]
    }
   ],
   "source": [
    "mycard = Card(rank = 14, suit = 3)\n",
    "print(mycard)"
   ]
  },
  {
   "cell_type": "markdown",
   "metadata": {
    "colab_type": "text",
    "id": "0Hhs61WVkVfN"
   },
   "source": [
    "***\n",
    "<a id='tests_q1'></a>\n",
    "***TESTS***: <br>\n",
    "Make sure that the following tests all give a `True` result:"
   ]
  },
  {
   "cell_type": "code",
   "execution_count": 79,
   "metadata": {
    "colab": {
     "autoexec": {
      "startup": false,
      "wait_interval": 0
     },
     "base_uri": "https://localhost:8080/",
     "height": 34,
     "output_extras": [
      {
       "item_id": 1
      }
     ]
    },
    "colab_type": "code",
    "executionInfo": {
     "elapsed": 1430,
     "status": "ok",
     "timestamp": 1521642594362,
     "user": {
      "displayName": "Rayno Mostert",
      "photoUrl": "https://lh3.googleusercontent.com/a/default-user=s128",
      "userId": "107056986412592388577"
     },
     "user_tz": -120
    },
    "id": "HZYcTB8E9CuQ",
    "outputId": "1b6cfacc-d2e8-4f65-b28d-11f13e947aa5"
   },
   "outputs": [
    {
     "data": {
      "text/plain": [
       "True"
      ]
     },
     "execution_count": 79,
     "metadata": {},
     "output_type": "execute_result"
    }
   ],
   "source": [
    "queen_of_h = Card(rank = 12, suit = 2)\n",
    "str(queen_of_h) == 'queen of hearts'"
   ]
  },
  {
   "cell_type": "code",
   "execution_count": 80,
   "metadata": {
    "colab": {
     "autoexec": {
      "startup": false,
      "wait_interval": 0
     },
     "base_uri": "https://localhost:8080/",
     "height": 34,
     "output_extras": [
      {
       "item_id": 1
      }
     ]
    },
    "colab_type": "code",
    "executionInfo": {
     "elapsed": 1518,
     "status": "ok",
     "timestamp": 1521642595994,
     "user": {
      "displayName": "Rayno Mostert",
      "photoUrl": "https://lh3.googleusercontent.com/a/default-user=s128",
      "userId": "107056986412592388577"
     },
     "user_tz": -120
    },
    "id": "hrNUD0e_iGZe",
    "outputId": "7f777bfb-b645-4631-e821-34ebfc65e7b2"
   },
   "outputs": [
    {
     "data": {
      "text/plain": [
       "True"
      ]
     },
     "execution_count": 80,
     "metadata": {},
     "output_type": "execute_result"
    }
   ],
   "source": [
    "nine_of_d = Card(rank = 9, suit = 1)\n",
    "str(nine_of_d) == '9 of diamonds'"
   ]
  },
  {
   "cell_type": "code",
   "execution_count": 81,
   "metadata": {
    "colab": {
     "autoexec": {
      "startup": false,
      "wait_interval": 0
     },
     "base_uri": "https://localhost:8080/",
     "height": 34,
     "output_extras": [
      {
       "item_id": 1
      }
     ]
    },
    "colab_type": "code",
    "deletable": false,
    "editable": false,
    "executionInfo": {
     "elapsed": 1084,
     "status": "ok",
     "timestamp": 1521642599914,
     "user": {
      "displayName": "Rayno Mostert",
      "photoUrl": "https://lh3.googleusercontent.com/a/default-user=s128",
      "userId": "107056986412592388577"
     },
     "user_tz": -120
    },
    "id": "zD_GVPuZmgap",
    "nbgrader": {
     "checksum": "01587a11e3e81f83708eb98c716cd07b",
     "grade": true,
     "grade_id": "cell-1cb19dc4c1b6c2ca",
     "locked": true,
     "points": 1,
     "schema_version": 1,
     "solution": false
    },
    "outputId": "ed7ee69d-7b01-439b-c9ea-e0b0f9a1fa16"
   },
   "outputs": [
    {
     "data": {
      "text/plain": [
       "True"
      ]
     },
     "execution_count": 81,
     "metadata": {},
     "output_type": "execute_result"
    }
   ],
   "source": [
    "nine_of_d + queen_of_h == 21"
   ]
  },
  {
   "cell_type": "code",
   "execution_count": 82,
   "metadata": {
    "colab": {
     "autoexec": {
      "startup": false,
      "wait_interval": 0
     },
     "base_uri": "https://localhost:8080/",
     "height": 34,
     "output_extras": [
      {
       "item_id": 1
      }
     ]
    },
    "colab_type": "code",
    "deletable": false,
    "editable": false,
    "executionInfo": {
     "elapsed": 1204,
     "status": "ok",
     "timestamp": 1521642601228,
     "user": {
      "displayName": "Rayno Mostert",
      "photoUrl": "https://lh3.googleusercontent.com/a/default-user=s128",
      "userId": "107056986412592388577"
     },
     "user_tz": -120
    },
    "id": "SCVJMBJ3ideI",
    "nbgrader": {
     "checksum": "ca92becd6f7bde5498fd7642eccd1ef6",
     "grade": true,
     "grade_id": "cell-c4ba8650ab348b19",
     "locked": true,
     "points": 1,
     "schema_version": 1,
     "solution": false
    },
    "outputId": "c5ac0a74-0634-4b06-bc0c-ed4d0f80a8fd"
   },
   "outputs": [
    {
     "data": {
      "text/plain": [
       "True"
      ]
     },
     "execution_count": 82,
     "metadata": {},
     "output_type": "execute_result"
    }
   ],
   "source": [
    "jack_of_c = Card(rank = 11, suit = 0)\n",
    "str(jack_of_c) == 'jack of clubs'"
   ]
  },
  {
   "cell_type": "code",
   "execution_count": 83,
   "metadata": {
    "colab": {
     "autoexec": {
      "startup": false,
      "wait_interval": 0
     },
     "base_uri": "https://localhost:8080/",
     "height": 34,
     "output_extras": [
      {
       "item_id": 1
      }
     ]
    },
    "colab_type": "code",
    "deletable": false,
    "editable": false,
    "executionInfo": {
     "elapsed": 1236,
     "status": "ok",
     "timestamp": 1521642602780,
     "user": {
      "displayName": "Rayno Mostert",
      "photoUrl": "https://lh3.googleusercontent.com/a/default-user=s128",
      "userId": "107056986412592388577"
     },
     "user_tz": -120
    },
    "id": "o-vJcbRSmrPC",
    "nbgrader": {
     "checksum": "95b2cba7611eba35d0684ce9c5cc809f",
     "grade": true,
     "grade_id": "cell-bf8db4bf9f4501df",
     "locked": true,
     "points": 1,
     "schema_version": 1,
     "solution": false
    },
    "outputId": "b5131ba3-953c-4c06-a0bd-5bdb85be279c"
   },
   "outputs": [
    {
     "data": {
      "text/plain": [
       "True"
      ]
     },
     "execution_count": 83,
     "metadata": {},
     "output_type": "execute_result"
    }
   ],
   "source": [
    "jack_of_c < queen_of_h"
   ]
  },
  {
   "cell_type": "markdown",
   "metadata": {
    "colab_type": "text",
    "id": "U-IbPbM7-8ml"
   },
   "source": [
    "***\n",
    "\n",
    "### Let's Create a Deck of Cards!\n",
    "\n",
    "Now lets create an `array` representing an entire deck of **`card`**s:"
   ]
  },
  {
   "cell_type": "code",
   "execution_count": 84,
   "metadata": {
    "colab": {
     "autoexec": {
      "startup": false,
      "wait_interval": 0
     }
    },
    "colab_type": "code",
    "id": "VKbSfMb2-7NS"
   },
   "outputs": [],
   "source": [
    "deck = [Card(r, s) for r in range(13) for s in range(4)]"
   ]
  },
  {
   "cell_type": "markdown",
   "metadata": {
    "colab_type": "text",
    "id": "yD4Bt5qbT8SX"
   },
   "source": [
    "Let's shuffle the cards a bit:"
   ]
  },
  {
   "cell_type": "code",
   "execution_count": 85,
   "metadata": {
    "colab": {
     "autoexec": {
      "startup": false,
      "wait_interval": 0
     }
    },
    "colab_type": "code",
    "id": "WS-V_OndT7lw"
   },
   "outputs": [],
   "source": [
    "import random\n",
    "\n",
    "random.shuffle(deck)"
   ]
  },
  {
   "cell_type": "markdown",
   "metadata": {
    "colab_type": "text",
    "id": "52V16Bv2B6eI"
   },
   "source": [
    "Let's take a peek at our deck of cards:"
   ]
  },
  {
   "cell_type": "code",
   "execution_count": 86,
   "metadata": {
    "colab": {
     "autoexec": {
      "startup": false,
      "wait_interval": 0
     },
     "base_uri": "https://localhost:8080/",
     "height": 10,
     "output_extras": [
      {
       "item_id": 1
      }
     ]
    },
    "colab_type": "code",
    "executionInfo": {
     "elapsed": 1600,
     "status": "ok",
     "timestamp": 1521642607676,
     "user": {
      "displayName": "Rayno Mostert",
      "photoUrl": "https://lh3.googleusercontent.com/a/default-user=s128",
      "userId": "107056986412592388577"
     },
     "user_tz": -120
    },
    "id": "W0ClpdV0_6rs",
    "outputId": "ea559a9b-c158-4caa-ecb3-8c3f8d6097e6"
   },
   "outputs": [
    {
     "name": "stdout",
     "output_type": "stream",
     "text": [
      "king of clubs\n",
      "8 of spades\n",
      "9 of spades\n",
      "9 of clubs\n",
      "4 of diamonds\n",
      "ace of diamonds\n",
      "queen of clubs\n",
      "5 of spades\n",
      "3 of clubs\n",
      "8 of hearts\n",
      "5 of hearts\n",
      "8 of diamonds\n",
      "jack of clubs\n",
      "10 of clubs\n",
      "5 of diamonds\n",
      "3 of spades\n",
      "9 of hearts\n",
      "2 of hearts\n",
      "5 of clubs\n",
      "2 of diamonds\n",
      "8 of clubs\n",
      "9 of diamonds\n",
      "queen of diamonds\n",
      "jack of spades\n",
      "king of diamonds\n",
      "4 of clubs\n",
      "king of hearts\n",
      "10 of diamonds\n",
      "2 of clubs\n",
      "7 of clubs\n",
      "jack of hearts\n",
      "7 of diamonds\n",
      "6 of diamonds\n",
      "6 of clubs\n",
      "queen of hearts\n",
      "ace of hearts\n",
      "4 of hearts\n",
      "2 of spades\n",
      "4 of spades\n",
      "jack of diamonds\n",
      "king of spades\n",
      "6 of spades\n",
      "3 of diamonds\n",
      "7 of hearts\n",
      "3 of hearts\n",
      "10 of hearts\n",
      "10 of spades\n",
      "ace of clubs\n",
      "7 of spades\n",
      "queen of spades\n",
      "6 of hearts\n",
      "ace of spades\n"
     ]
    }
   ],
   "source": [
    "[print(card) for card in deck];"
   ]
  },
  {
   "cell_type": "markdown",
   "metadata": {
    "colab_type": "text",
    "id": "42gFTL3qonAg"
   },
   "source": [
    "## Question 2:  Dealing a Hand\n",
    "\n",
    "***\n",
    "**Important:**\n",
    "You need to pass the tests (obtain a `True` result [for all of the tests](#tests_q1)) in Question 1, in order to be able to continue with Question 2.\n",
    "\n",
    "***\n",
    "\n",
    "What's a deck of **`Card`**s without any **`Hand`**s to deal to?\n",
    "\n",
    "Build a Python Class, called **`Hand`**, with a single instance variable:  \n",
    "- **`cards`** $\\ \\ \\ $ (which is a `list`, initialized to $\\ \\ $ **`[]`**  $\\ \\ $ - an empty list)"
   ]
  },
  {
   "cell_type": "markdown",
   "metadata": {
    "colab_type": "text",
    "id": "42gFTL3qonAg"
   },
   "source": [
    "The **`Hand`** `class` should also have the following method:  \n",
    "- **`deal(card)`** $\\ \\ \\ $ (which `append`s the dealt `Card` to the `list` of `cards`)"
   ]
  },
  {
   "cell_type": "markdown",
   "metadata": {
    "colab_type": "text",
    "id": "42gFTL3qonAg"
   },
   "source": [
    "Your code should be able to do the following:\n",
    "\n",
    "- Anyone should be able to create an instance of **`Hand`**, by calling, for example:  $ \\ \\ \\ $ **`myHand = Hand()`** $\\ \\ $.\n",
    "<br><br>\n",
    "- Override the **`__init__`** method to create the instance variable called $\\ $ **`cards`** $\\ $, with a value of $\\ \\ $ **`[]`**  $\\ \\ $ - an empty list - when a **Hand** object is instantiated.\n",
    "<br><br>\n",
    "- Override the **`__repr__`** method to return:\n",
    "  - A `String` of all the `Card` objects in the `cards` list - using `str(card)` - separated by `', '`.\n",
    "  - E.g. `'jack of spades, queen of hearts, 9 of diamonds, 3 of clubs'`\n",
    "<br><br>\n",
    "- Anyone can add a `Card` instance (e.g. **`myCard`**) to the `list` of `card`s by using the `deal` function, e.g. **`myHand.deal(myCard)`** should add `myCard` to the list of `cards` on `myHand`."
   ]
  },
  {
   "cell_type": "code",
   "execution_count": 87,
   "metadata": {
    "colab": {
     "autoexec": {
      "startup": false,
      "wait_interval": 0
     }
    },
    "colab_type": "code",
    "deletable": false,
    "id": "YJ4_S0poonAk",
    "nbgrader": {
     "checksum": "4a9aff2ce76da71556ab530b60edfebd",
     "grade": false,
     "grade_id": "cell-080625df9770486b",
     "locked": false,
     "schema_version": 1,
     "solution": true
    }
   },
   "outputs": [],
   "source": [
    "### START QUESTION 2\n",
    "class Hand():\n",
    "    \n",
    "# YOUR CODE HERE\n",
    "    def __init__(self,cards=[]):\n",
    "        \n",
    "        self.cards = cards\n",
    "        \n",
    "    def deal(self,card):\n",
    "        self.cards.append(card)\n",
    "        \n",
    "    def __repr__(self):\n",
    "        \n",
    "        return ', '.join([str(card) for card in self.cards])\n",
    "\n",
    "  \n",
    "### END QUESTION 2"
   ]
  },
  {
   "cell_type": "markdown",
   "metadata": {
    "colab_type": "text",
    "id": "DA0Ndo3qonAs"
   },
   "source": [
    "***\n",
    "***TESTS***: <br>\n",
    "\n",
    "Make sure to check your code using the following tests (don't change the code in these cells):"
   ]
  },
  {
   "cell_type": "code",
   "execution_count": 88,
   "metadata": {
    "colab": {
     "autoexec": {
      "startup": false,
      "wait_interval": 0
     },
     "base_uri": "https://localhost:8080/",
     "height": 34,
     "output_extras": [
      {
       "item_id": 1
      }
     ]
    },
    "colab_type": "code",
    "executionInfo": {
     "elapsed": 1342,
     "status": "ok",
     "timestamp": 1521642610704,
     "user": {
      "displayName": "Rayno Mostert",
      "photoUrl": "https://lh3.googleusercontent.com/a/default-user=s128",
      "userId": "107056986412592388577"
     },
     "user_tz": -120
    },
    "id": "n0JjQOQgaV0y",
    "outputId": "157e7da2-5d67-46cb-a369-581e8ee5a2bd"
   },
   "outputs": [
    {
     "data": {
      "text/plain": [
       "True"
      ]
     },
     "execution_count": 88,
     "metadata": {},
     "output_type": "execute_result"
    }
   ],
   "source": [
    "myHand = Hand()\n",
    "first_card = Card(rank = 11, suit = 3)\n",
    "second_card = Card(rank = 12, suit = 2)\n",
    "third_card = Card(rank = 9, suit = 1)\n",
    "fourth_card = Card(rank = 3, suit = 0)\n",
    "\n",
    "myHand.deal(first_card) \n",
    "myHand.deal(second_card) \n",
    "myHand.deal(third_card) \n",
    "myHand.deal(fourth_card) \n",
    "\n",
    "str(myHand.cards[0]) == \"jack of spades\""
   ]
  },
  {
   "cell_type": "code",
   "execution_count": 89,
   "metadata": {
    "colab": {
     "autoexec": {
      "startup": false,
      "wait_interval": 0
     },
     "base_uri": "https://localhost:8080/",
     "height": 34,
     "output_extras": [
      {
       "item_id": 1
      }
     ]
    },
    "colab_type": "code",
    "deletable": false,
    "editable": false,
    "executionInfo": {
     "elapsed": 1394,
     "status": "ok",
     "timestamp": 1521642612210,
     "user": {
      "displayName": "Rayno Mostert",
      "photoUrl": "https://lh3.googleusercontent.com/a/default-user=s128",
      "userId": "107056986412592388577"
     },
     "user_tz": -120
    },
    "id": "NOPT8_Jnb5eQ",
    "nbgrader": {
     "checksum": "1ae14fa0e2f8baf0c83a954d94e8541e",
     "grade": true,
     "grade_id": "cell-ed34edae694715af",
     "locked": true,
     "points": 2,
     "schema_version": 1,
     "solution": false
    },
    "outputId": "2d7ec6e2-4df7-4cb6-fe39-92663df57126"
   },
   "outputs": [
    {
     "data": {
      "text/plain": [
       "'jack of spades, queen of hearts, 9 of diamonds, 3 of clubs'"
      ]
     },
     "execution_count": 89,
     "metadata": {},
     "output_type": "execute_result"
    }
   ],
   "source": [
    "# SHOULD OUTPUT: 'jack of spades, queen of hearts, 9 of diamonds, 3 of clubs'\n",
    "str(myHand)\n"
   ]
  },
  {
   "cell_type": "markdown",
   "metadata": {
    "colab_type": "text",
    "id": "rnk9oT94dKn2"
   },
   "source": [
    "***"
   ]
  },
  {
   "cell_type": "markdown",
   "metadata": {
    "colab_type": "text",
    "id": "mO1S--GUq1cz"
   },
   "source": [
    "## Question 3: Flush\n",
    "\n",
    "***\n",
    "**Important:**\n",
    "You need to pass the tests (obtain a `True` result [for all of the tests](#tests_q1)) in Question 1, in order to be able to continue with this question.\n",
    "\n",
    "***\n",
    "\n",
    "A ***[flush](https://en.wikipedia.org/wiki/List_of_poker_hands#Flush)*** has **5** cards from the **same suit**.\n",
    "\n",
    "Write a function, **`is_flush(cards)`**, that:\n",
    "- takes a `list` of `Cards`as an argument\n",
    "- `returns` $\\ $ `True` $\\ $ if the `list` of `Cards` is a flush \n",
    "- `returns` $\\ $ `False` $\\ $ if the `list` of `Cards` is not a flush."
   ]
  },
  {
   "cell_type": "code",
   "execution_count": 90,
   "metadata": {
    "colab": {
     "autoexec": {
      "startup": false,
      "wait_interval": 0
     }
    },
    "colab_type": "code",
    "deletable": false,
    "id": "28Y6c7hhq1c1",
    "nbgrader": {
     "checksum": "96c68a3d51c4b2eb8f1e8236d3cbb7cb",
     "grade": false,
     "grade_id": "cell-1b76ef1a9739417b",
     "locked": false,
     "schema_version": 1,
     "solution": true
    }
   },
   "outputs": [],
   "source": [
    "### START QUESTION 3\n",
    "\n",
    "def is_flush(cards):\n",
    "  \n",
    "    # YOUR CODE HERE\n",
    "    count = 0\n",
    "    num = 0\n",
    "    for card in cards:\n",
    "        if count == 0:\n",
    "            num = card.suit\n",
    "            count += 1\n",
    "        else:\n",
    "            \n",
    "            if num == card.suit:\n",
    "                num = card.suit\n",
    "                count += 1\n",
    "                \n",
    "                if count == len(cards)-1:\n",
    "                    return True\n",
    "                \n",
    "            else:\n",
    "                return False\n",
    "            \n",
    "    raise NotImplementedError()\n",
    "    \n",
    "### END QUESTION 3"
   ]
  },
  {
   "cell_type": "markdown",
   "metadata": {
    "colab_type": "text",
    "id": "fuSjDPB1q1c6"
   },
   "source": [
    "***\n",
    "***TESTS***: <br>\n",
    "\n",
    "Make sure that your code passes the following tests:"
   ]
  },
  {
   "cell_type": "code",
   "execution_count": 91,
   "metadata": {
    "colab": {
     "autoexec": {
      "startup": false,
      "wait_interval": 0
     },
     "base_uri": "https://localhost:8080/",
     "height": 34,
     "output_extras": [
      {
       "item_id": 1
      }
     ]
    },
    "colab_type": "code",
    "executionInfo": {
     "elapsed": 1650,
     "status": "ok",
     "timestamp": 1521642615562,
     "user": {
      "displayName": "Rayno Mostert",
      "photoUrl": "https://lh3.googleusercontent.com/a/default-user=s128",
      "userId": "107056986412592388577"
     },
     "user_tz": -120
    },
    "id": "OcdkNDw1r-ez",
    "outputId": "5f202252-bdd6-43f2-e8e4-0602166bbbe7"
   },
   "outputs": [
    {
     "data": {
      "text/plain": [
       "True"
      ]
     },
     "execution_count": 91,
     "metadata": {},
     "output_type": "execute_result"
    }
   ],
   "source": [
    "card1 = Card(13, 3)\n",
    "card2 = Card(5, 3)\n",
    "card3 = Card(9, 3)\n",
    "card4 = Card(12, 3)\n",
    "card5 = Card(8, 3)\n",
    "\n",
    "# TEST - MUST BE TRUE:\n",
    "is_flush([card1, card2, card3, card4, card5])"
   ]
  },
  {
   "cell_type": "code",
   "execution_count": 92,
   "metadata": {
    "colab": {
     "autoexec": {
      "startup": false,
      "wait_interval": 0
     },
     "base_uri": "https://localhost:8080/",
     "height": 34,
     "output_extras": [
      {
       "item_id": 1
      }
     ]
    },
    "colab_type": "code",
    "executionInfo": {
     "elapsed": 3336,
     "status": "ok",
     "timestamp": 1521642620064,
     "user": {
      "displayName": "Rayno Mostert",
      "photoUrl": "https://lh3.googleusercontent.com/a/default-user=s128",
      "userId": "107056986412592388577"
     },
     "user_tz": -120
    },
    "id": "5V1yJGkKse52",
    "outputId": "978ea890-8964-4dac-a2de-346e6e61cfa2"
   },
   "outputs": [
    {
     "data": {
      "text/plain": [
       "False"
      ]
     },
     "execution_count": 92,
     "metadata": {},
     "output_type": "execute_result"
    }
   ],
   "source": [
    "card6 = Card(7, 2)\n",
    "card7 = Card(6, 1)\n",
    "\n",
    "# TEST - MUST BE FALSE:\n",
    "is_flush([card1, card2, card3, card6, card7])"
   ]
  },
  {
   "cell_type": "code",
   "execution_count": null,
   "metadata": {
    "colab": {
     "autoexec": {
      "startup": false,
      "wait_interval": 0
     }
    },
    "colab_type": "code",
    "deletable": false,
    "editable": false,
    "id": "PtRx1QG-wbnL",
    "nbgrader": {
     "checksum": "044e35486892de23e672c302016c48c6",
     "grade": true,
     "grade_id": "cell-ad8d105d05c0b208",
     "locked": true,
     "points": 1,
     "schema_version": 1,
     "solution": false
    }
   },
   "outputs": [],
   "source": []
  },
  {
   "cell_type": "markdown",
   "metadata": {
    "colab_type": "text",
    "id": "1WVNCrLgwqD5"
   },
   "source": [
    "![straight](https://upload.wikimedia.org/wikipedia/commons/thumb/5/50/Nut-Straight.jpg/1280px-Nut-Straight.jpg)\n",
    "\n",
    "## Question 4: Straight\n",
    "\n",
    "***\n",
    "**Important:**\n",
    "You need to pass the tests (obtain a `True` result [for all of the tests](#tests_q1)) in Question 1, in order to be able to continue with this question.\n",
    "\n",
    "***\n",
    "\n",
    "A ***[straight](https://en.wikipedia.org/wiki/List_of_poker_hands#Straight)*** hand has **5** cards of **sequential rank**, e.g. (3, 4, 5, 6, 7), or (ace, 2, 3, 4, 5), or (10, jack, queen, king, ace) - i.e. ace is EITHER lower than 2, or higher than King. It cannot be both for example, (queen, king, ace, 2, 3) is NOT A STRAIGHT.\n",
    "\n",
    "Write a function, **`is_straight(cards)`**, that:\n",
    "- takes as an argument a `list` of `Cards` \n",
    "- `returns` $\\ $ `True` $\\ $ if the `list` of `Cards` is a straight\n",
    "- `returns` $\\ $ `False` $\\ $ if the `list` of `Cards` is NOT a straight"
   ]
  },
  {
   "cell_type": "code",
   "execution_count": 93,
   "metadata": {
    "colab": {
     "autoexec": {
      "startup": false,
      "wait_interval": 0
     }
    },
    "colab_type": "code",
    "deletable": false,
    "id": "V3fcitsrwqEM",
    "nbgrader": {
     "checksum": "ce260df3cd4b7171a179f4db20c0f453",
     "grade": false,
     "grade_id": "cell-20c4adc338ec80d3",
     "locked": false,
     "schema_version": 1,
     "solution": true
    }
   },
   "outputs": [],
   "source": [
    "### START QUESTION 4\n",
    "\n",
    "def is_straight(cards):\n",
    "  \n",
    "    # YOUR CODE HERE\n",
    "    if cards[0] == 'ace':\n",
    "        return 1\n",
    "    elif cards[4] == 'ace':\n",
    "        return 14\n",
    "    \n",
    "    rank = cards[0].rank\n",
    "    \n",
    "    for x in cards:\n",
    "        if x.rank == rank:\n",
    "            return True\n",
    "        else:\n",
    "            return False\n",
    "    \n",
    "    raise NotImplementedError()\n",
    "    \n",
    "### END QUESTION 4"
   ]
  },
  {
   "cell_type": "markdown",
   "metadata": {
    "colab_type": "text",
    "id": "534lsn2vwqEc"
   },
   "source": [
    "***\n",
    "***TESTS***: <br>\n",
    "\n",
    "Make sure that the following tests all give a `True` result:"
   ]
  },
  {
   "cell_type": "code",
   "execution_count": 94,
   "metadata": {
    "colab": {
     "autoexec": {
      "startup": false,
      "wait_interval": 0
     },
     "base_uri": "https://localhost:8080/",
     "height": 34,
     "output_extras": [
      {
       "item_id": 1
      }
     ]
    },
    "colab_type": "code",
    "executionInfo": {
     "elapsed": 1508,
     "status": "ok",
     "timestamp": 1521642624898,
     "user": {
      "displayName": "Rayno Mostert",
      "photoUrl": "https://lh3.googleusercontent.com/a/default-user=s128",
      "userId": "107056986412592388577"
     },
     "user_tz": -120
    },
    "id": "rjI0ln3VwqEf",
    "outputId": "7ae945cd-a1ef-45bc-b401-951d45ad5cba"
   },
   "outputs": [
    {
     "data": {
      "text/plain": [
       "True"
      ]
     },
     "execution_count": 94,
     "metadata": {},
     "output_type": "execute_result"
    }
   ],
   "source": [
    "card1 = Card(8, 3)\n",
    "card2 = Card(9, 3)\n",
    "card3 = Card(10, 3)\n",
    "card4 = Card(11, 3)\n",
    "card5 = Card(12, 3)\n",
    "\n",
    "# TEST - MUST BE TRUE:\n",
    "is_straight([card1, card2, card3, card4, card5])"
   ]
  },
  {
   "cell_type": "code",
   "execution_count": 95,
   "metadata": {
    "colab": {
     "autoexec": {
      "startup": false,
      "wait_interval": 0
     },
     "base_uri": "https://localhost:8080/",
     "height": 34,
     "output_extras": [
      {
       "item_id": 1
      }
     ]
    },
    "colab_type": "code",
    "executionInfo": {
     "elapsed": 1156,
     "status": "ok",
     "timestamp": 1521642626280,
     "user": {
      "displayName": "Rayno Mostert",
      "photoUrl": "https://lh3.googleusercontent.com/a/default-user=s128",
      "userId": "107056986412592388577"
     },
     "user_tz": -120
    },
    "id": "K2gANDU_wqEs",
    "outputId": "f4ae3026-76ce-4dd2-f628-44b8c770c1bb"
   },
   "outputs": [
    {
     "data": {
      "text/plain": [
       "True"
      ]
     },
     "execution_count": 95,
     "metadata": {},
     "output_type": "execute_result"
    }
   ],
   "source": [
    "card6 = Card(12, 2)\n",
    "card7 = Card(13, 1)\n",
    "\n",
    "# TEST - MUST BE TRUE:\n",
    "is_straight([card6, card7, card3, card4, card2])"
   ]
  },
  {
   "cell_type": "code",
   "execution_count": null,
   "metadata": {
    "colab": {
     "autoexec": {
      "startup": false,
      "wait_interval": 0
     }
    },
    "colab_type": "code",
    "deletable": false,
    "editable": false,
    "id": "ohcVxsT_wqE3",
    "nbgrader": {
     "checksum": "a79eedb92e6abdb20a0494c60607e5d8",
     "grade": true,
     "grade_id": "cell-aaec616194da5e50",
     "locked": true,
     "points": 1,
     "schema_version": 1,
     "solution": false
    }
   },
   "outputs": [],
   "source": []
  },
  {
   "cell_type": "markdown",
   "metadata": {
    "colab_type": "text",
    "id": "YKcPm71H_SDc"
   },
   "source": [
    "![straight](https://upload.wikimedia.org/wikipedia/commons/thumb/5/50/Nut-Straight.jpg/1280px-Nut-Straight.jpg)\n",
    "\n",
    "## Question 5: Four of a kind\n",
    "\n",
    "***\n",
    "**Important:**\n",
    "You need to pass the tests (obtain a `True` result [for all of the tests](#tests_q1)) in Question 1, in order to be able to continue with this question.\n",
    "\n",
    "***\n",
    "\n",
    "A ***[four of a kind](https://en.wikipedia.org/wiki/List_of_poker_hands#Four_of_a_kind)*** is a poker hand that has **4** cards of the **same rank**, and one card of another rank (e.g. a _3 of hearts_, a _3 of diamonds_, a _3 of clubs_, a _3 of spades_, and some other card).\n",
    "\n",
    "Write a function, **`four_of_a_kind(cards)`**, that:\n",
    "- takes `list` of `Cards` as an argument\n",
    "- `returns` $\\ $ `True` $\\ $ if the `list` of `Cards` is a $\\ $ **`four of a kind`** \n",
    "- `returns` $\\ $`False` $\\ $ if the `list` of `Cards` is NOT a $\\ $ **`four of a kind`**"
   ]
  },
  {
   "cell_type": "code",
   "execution_count": 96,
   "metadata": {
    "colab": {
     "autoexec": {
      "startup": false,
      "wait_interval": 0
     }
    },
    "colab_type": "code",
    "deletable": false,
    "id": "ECJw1bnY_SDl",
    "nbgrader": {
     "checksum": "8c2e6487d0cfd693075ce8afc797cba0",
     "grade": false,
     "grade_id": "cell-27830fb433c7d3fb",
     "locked": false,
     "schema_version": 1,
     "solution": true
    }
   },
   "outputs": [],
   "source": [
    "### START QUESTION 5\n",
    "\n",
    "def four_of_a_kind(cards):\n",
    "  \n",
    "    # YOUR CODE HERE\n",
    "    \n",
    "    count = 0\n",
    "    \n",
    "    for card in range(len(cards)):\n",
    "        if cards[card - 1].rank == cards[card].rank:\n",
    "            count += 1\n",
    "            \n",
    "    if count == 3:\n",
    "        return True\n",
    "    else:\n",
    "        return False\n",
    "        raise NotImplementedError()\n",
    "    \n",
    "### END QUESTION 5"
   ]
  },
  {
   "cell_type": "markdown",
   "metadata": {
    "colab_type": "text",
    "id": "KHYQrjHa_SDx"
   },
   "source": [
    "***\n",
    "***TESTS***: <br>\n",
    "\n",
    "Make sure that your code passes the following tests:"
   ]
  },
  {
   "cell_type": "code",
   "execution_count": 97,
   "metadata": {
    "colab": {
     "autoexec": {
      "startup": false,
      "wait_interval": 0
     },
     "base_uri": "https://localhost:8080/",
     "height": 34,
     "output_extras": [
      {
       "item_id": 1
      }
     ]
    },
    "colab_type": "code",
    "executionInfo": {
     "elapsed": 1462,
     "status": "ok",
     "timestamp": 1521642631890,
     "user": {
      "displayName": "Rayno Mostert",
      "photoUrl": "https://lh3.googleusercontent.com/a/default-user=s128",
      "userId": "107056986412592388577"
     },
     "user_tz": -120
    },
    "id": "aR3UpS-j_SD2",
    "outputId": "6c711868-a56d-4f49-b496-71e6c428bb65"
   },
   "outputs": [
    {
     "data": {
      "text/plain": [
       "False"
      ]
     },
     "execution_count": 97,
     "metadata": {},
     "output_type": "execute_result"
    }
   ],
   "source": [
    "card1 = Card(8, 3)\n",
    "card2 = Card(9, 3)\n",
    "card3 = Card(10, 3)\n",
    "card4 = Card(11, 3)\n",
    "card5 = Card(12, 3)\n",
    "\n",
    "# TEST - MUST BE FALSE:\n",
    "four_of_a_kind([card1, card2, card3, card4, card5])"
   ]
  },
  {
   "cell_type": "code",
   "execution_count": 98,
   "metadata": {
    "colab": {
     "autoexec": {
      "startup": false,
      "wait_interval": 0
     },
     "base_uri": "https://localhost:8080/",
     "height": 34,
     "output_extras": [
      {
       "item_id": 1
      }
     ]
    },
    "colab_type": "code",
    "executionInfo": {
     "elapsed": 1592,
     "status": "ok",
     "timestamp": 1521642633598,
     "user": {
      "displayName": "Rayno Mostert",
      "photoUrl": "https://lh3.googleusercontent.com/a/default-user=s128",
      "userId": "107056986412592388577"
     },
     "user_tz": -120
    },
    "id": "GeUZfvqK_SEC",
    "outputId": "84de3626-27c4-4c36-c7c9-6bc5795b4d32"
   },
   "outputs": [
    {
     "data": {
      "text/plain": [
       "True"
      ]
     },
     "execution_count": 98,
     "metadata": {},
     "output_type": "execute_result"
    }
   ],
   "source": [
    "card6 = Card(11, 2)\n",
    "card7 = Card(11, 1)\n",
    "card8 = Card(8, 3)\n",
    "card9 = Card(11, 0)\n",
    "\n",
    "# TEST - MUST BE TRUE:\n",
    "four_of_a_kind([card6, card7, card8, card4, card9])"
   ]
  },
  {
   "cell_type": "code",
   "execution_count": 99,
   "metadata": {
    "colab": {
     "autoexec": {
      "startup": false,
      "wait_interval": 0
     },
     "base_uri": "https://localhost:8080/",
     "height": 34,
     "output_extras": [
      {
       "item_id": 1
      }
     ]
    },
    "colab_type": "code",
    "executionInfo": {
     "elapsed": 1506,
     "status": "ok",
     "timestamp": 1521642635192,
     "user": {
      "displayName": "Rayno Mostert",
      "photoUrl": "https://lh3.googleusercontent.com/a/default-user=s128",
      "userId": "107056986412592388577"
     },
     "user_tz": -120
    },
    "id": "cliH7iDKwoxt",
    "outputId": "e3b8a9f9-978a-4192-e46f-50bd99bad5c5"
   },
   "outputs": [
    {
     "data": {
      "text/plain": [
       "True"
      ]
     },
     "execution_count": 99,
     "metadata": {},
     "output_type": "execute_result"
    }
   ],
   "source": [
    "four_of_a_kind([card2, card8, card8, card8, card8])"
   ]
  },
  {
   "cell_type": "code",
   "execution_count": null,
   "metadata": {
    "colab": {
     "autoexec": {
      "startup": false,
      "wait_interval": 0
     }
    },
    "colab_type": "code",
    "deletable": false,
    "editable": false,
    "id": "Mx1sgFHK_SEN",
    "nbgrader": {
     "checksum": "abb92260d99c4aea799f505496e5ccc2",
     "grade": true,
     "grade_id": "cell-d089af641561ab00",
     "locked": true,
     "points": 1,
     "schema_version": 1,
     "solution": false
    }
   },
   "outputs": [],
   "source": []
  },
  {
   "cell_type": "markdown",
   "metadata": {
    "colab_type": "text",
    "id": "4VoWy_1bx5s4"
   },
   "source": [
    "## Question 6: Full House\n",
    "\n",
    "***\n",
    "**Important:**\n",
    "You need to pass the tests (obtain a `True` result [for all of the tests](#tests_q1)) in Question 1, in order to be able to continue with this question.\n",
    "\n",
    "***\n",
    "\n",
    "A ***[full house](https://en.wikipedia.org/wiki/List_of_poker_hands#Full_house)*** is a poker hand that has **3** cards of the **same rank**, and another **2** cards of a **different rank**, for example:\n",
    "- a _**3** of hearts_, a _**3** of diamonds_, a _**3** of clubs_, a _**2** of spades_, a _**2** of hearts_\n",
    "- a _**jack** of spades_, **jack** of diamonds, a _**jack** of clubs_, a _**9** of spades_, a _**9** of clubs_\n",
    "\n",
    "Write a function, **`full_house(cards)`**, that:\n",
    "- takes a `list` of `Cards` as an argument\n",
    "- `returns` $\\ $ `True` $\\ $ if the `list` of `Cards` is a $\\ $ **`full house`** $\\ $\n",
    "- `returns` $\\ $ `False` $\\ $ if the `list` of `Cards` is NOT a $\\ $ **`full house`** $\\ $."
   ]
  },
  {
   "cell_type": "code",
   "execution_count": 100,
   "metadata": {
    "colab": {
     "autoexec": {
      "startup": false,
      "wait_interval": 0
     }
    },
    "colab_type": "code",
    "deletable": false,
    "id": "hzWV3UpKx5tR",
    "nbgrader": {
     "checksum": "a9e84826c383fc3175600c6ed7f1ddf0",
     "grade": false,
     "grade_id": "cell-4a74c409c0525110",
     "locked": false,
     "schema_version": 1,
     "solution": true
    }
   },
   "outputs": [],
   "source": [
    "### START QUESTION 6\n",
    "\n",
    "def full_house(cards):\n",
    "  \n",
    "    # YOUR CODE HERE\n",
    "    rank1 = 0\n",
    "    rank2 = 0\n",
    "    \n",
    "    for card in range(len(cards)):\n",
    "        if cards[card - 1].rank == cards[card].rank:\n",
    "            rank1 += 1\n",
    "            \n",
    "        elif cards[card - 1].rank != cards[card].rank:\n",
    "                rank2 += 1\n",
    "                \n",
    "    if (rank1 == 3 and rank2 == 2) or (rank1 == 2 and rank2 == 3):\n",
    "        return True\n",
    "    else:\n",
    "        return False\n",
    "    raise NotImplementedError()\n",
    "    \n",
    "### END QUESTION 6"
   ]
  },
  {
   "cell_type": "markdown",
   "metadata": {
    "colab_type": "text",
    "id": "Syu2-T_kx5th"
   },
   "source": [
    "***\n",
    "***TESTS***: <br>\n",
    "\n",
    "Make sure that your code passes the following tests:"
   ]
  },
  {
   "cell_type": "code",
   "execution_count": 101,
   "metadata": {
    "colab": {
     "autoexec": {
      "startup": false,
      "wait_interval": 0
     },
     "base_uri": "https://localhost:8080/",
     "height": 34,
     "output_extras": [
      {
       "item_id": 1
      }
     ]
    },
    "colab_type": "code",
    "executionInfo": {
     "elapsed": 1352,
     "status": "ok",
     "timestamp": 1521642639530,
     "user": {
      "displayName": "Rayno Mostert",
      "photoUrl": "https://lh3.googleusercontent.com/a/default-user=s128",
      "userId": "107056986412592388577"
     },
     "user_tz": -120
    },
    "id": "W_PBfOeXx5tl",
    "outputId": "5472ce88-5962-442d-973a-cb6c3a307ee5"
   },
   "outputs": [
    {
     "data": {
      "text/plain": [
       "False"
      ]
     },
     "execution_count": 101,
     "metadata": {},
     "output_type": "execute_result"
    }
   ],
   "source": [
    "card1 = Card(8, 3)\n",
    "card2 = Card(9, 3)\n",
    "card3 = Card(10, 3)\n",
    "card4 = Card(11, 3)\n",
    "card5 = Card(12, 3)\n",
    "\n",
    "# TEST - MUST BE FALSE:\n",
    "full_house([card1, card2, card3, card4, card5])"
   ]
  },
  {
   "cell_type": "code",
   "execution_count": 102,
   "metadata": {
    "colab": {
     "autoexec": {
      "startup": false,
      "wait_interval": 0
     },
     "base_uri": "https://localhost:8080/",
     "height": 34,
     "output_extras": [
      {
       "item_id": 1
      }
     ]
    },
    "colab_type": "code",
    "executionInfo": {
     "elapsed": 1794,
     "status": "ok",
     "timestamp": 1521642641536,
     "user": {
      "displayName": "Rayno Mostert",
      "photoUrl": "https://lh3.googleusercontent.com/a/default-user=s128",
      "userId": "107056986412592388577"
     },
     "user_tz": -120
    },
    "id": "eFcOHfxYx5ty",
    "outputId": "251bee08-d036-41a5-9d6c-7cd0ac7d1541"
   },
   "outputs": [
    {
     "data": {
      "text/plain": [
       "True"
      ]
     },
     "execution_count": 102,
     "metadata": {},
     "output_type": "execute_result"
    }
   ],
   "source": [
    "card6 = Card(11, 2)\n",
    "card7 = Card(11, 1)\n",
    "card8 = Card(8, 3)\n",
    "card9 = Card(11, 0)\n",
    "\n",
    "# TEST - MUST BE TRUE:\n",
    "full_house([card6, card7, card8, card1, card9])"
   ]
  },
  {
   "cell_type": "code",
   "execution_count": null,
   "metadata": {
    "colab": {
     "autoexec": {
      "startup": false,
      "wait_interval": 0
     }
    },
    "colab_type": "code",
    "deletable": false,
    "editable": false,
    "id": "X_uhupMjx5uC",
    "nbgrader": {
     "checksum": "fb09c73d82e4358f1961534e5c43842e",
     "grade": true,
     "grade_id": "cell-0d54952923cc57ac",
     "locked": true,
     "points": 1,
     "schema_version": 1,
     "solution": false
    }
   },
   "outputs": [],
   "source": []
  },
  {
   "cell_type": "markdown",
   "metadata": {
    "colab_type": "text",
    "id": "uyKL2NV6SRQy"
   },
   "source": [
    "## Question 7: Three of a kind\n",
    "\n",
    "***\n",
    "**Important:**\n",
    "You need to pass the tests (obtain a `True` result [for all of the tests](#tests_q1)) in Question 1, in order to be able to continue with this question.\n",
    "\n",
    "***\n",
    "\n",
    "A ***[three of a kind](https://en.wikipedia.org/wiki/List_of_poker_hands#Three_of_a_kind)*** is a poker hand that has **3** cards of the **same rank**, for example:\n",
    "- a _**3** of hearts_, a _**3** of diamonds_, a _**3** of clubs_, a _**2** of spades_, a _**8** of hearts_\n",
    "- a _**jack** of spades_, a _**jack** of diamonds_, a _**jack** of clubs_, a _**king** of spades_, a _**9** of clubs_\n",
    "\n",
    "Write a function, **`three_of_a_kind(cards)`**, that:\n",
    "- takes as an argument a `list` of `Cards`\n",
    "- `returns` $\\ $ `True` $\\ $ if the `list` of `Cards` is a $\\ $ **`three of a kind`** $\\ $\n",
    "- `returns`$\\ $ `False` $\\ $ if the `list` of `Cards` is NOT a $\\ $ **`three of a kind`** $\\ $"
   ]
  },
  {
   "cell_type": "code",
   "execution_count": 103,
   "metadata": {
    "colab": {
     "autoexec": {
      "startup": false,
      "wait_interval": 0
     }
    },
    "colab_type": "code",
    "deletable": false,
    "id": "rIOncEoMSRQ4",
    "nbgrader": {
     "checksum": "de2ffcc315d1c23774444f74bef88b23",
     "grade": false,
     "grade_id": "cell-7744a3e22f4e6d3d",
     "locked": false,
     "schema_version": 1,
     "solution": true
    }
   },
   "outputs": [],
   "source": [
    "### START QUESTION 7\n",
    "\n",
    "def three_of_a_kind(cards):\n",
    "  \n",
    "    # YOUR CODE HERE\n",
    "    rank1 = 0\n",
    "    rank2 = 0\n",
    "    \n",
    "    for card in range(len(cards)):\n",
    "        if cards[card - 1].rank == cards[card].rank:\n",
    "            rank1 += 1\n",
    "            \n",
    "        elif cards[card - 1].rank != cards[card].rank:\n",
    "                rank2 += 1\n",
    "    if four_of_a_kind(cards) is True:\n",
    "        return False\n",
    "    \n",
    "    if rank1 == 3 or rank2 == 3:\n",
    "        return True\n",
    "    else:\n",
    "        return False\n",
    "    \n",
    "        raise NotImplementedError()\n",
    "    \n",
    "### END QUESTION 7"
   ]
  },
  {
   "cell_type": "markdown",
   "metadata": {
    "colab_type": "text",
    "id": "Lxf1W9phSRRE"
   },
   "source": [
    "***\n",
    "***TESTS***: <br>\n",
    "\n",
    "Make sure that your code passes the following tests:"
   ]
  },
  {
   "cell_type": "code",
   "execution_count": 104,
   "metadata": {
    "colab": {
     "autoexec": {
      "startup": false,
      "wait_interval": 0
     },
     "base_uri": "https://localhost:8080/",
     "height": 34,
     "output_extras": [
      {
       "item_id": 1
      }
     ]
    },
    "colab_type": "code",
    "executionInfo": {
     "elapsed": 2930,
     "status": "ok",
     "timestamp": 1521642649346,
     "user": {
      "displayName": "Rayno Mostert",
      "photoUrl": "https://lh3.googleusercontent.com/a/default-user=s128",
      "userId": "107056986412592388577"
     },
     "user_tz": -120
    },
    "id": "Cz3gTxQxSRRH",
    "outputId": "4e477f8a-163a-45c7-ed56-8e873cec4cdb"
   },
   "outputs": [
    {
     "data": {
      "text/plain": [
       "False"
      ]
     },
     "execution_count": 104,
     "metadata": {},
     "output_type": "execute_result"
    }
   ],
   "source": [
    "card1 = Card(8, 3)\n",
    "card2 = Card(9, 3)\n",
    "card3 = Card(10, 3)\n",
    "card4 = Card(11, 3)\n",
    "card5 = Card(12, 3)\n",
    "\n",
    "# TEST - MUST BE FALSE:\n",
    "three_of_a_kind([card1, card2, card3, card4, card5])"
   ]
  },
  {
   "cell_type": "code",
   "execution_count": 105,
   "metadata": {
    "colab": {
     "autoexec": {
      "startup": false,
      "wait_interval": 0
     },
     "base_uri": "https://localhost:8080/",
     "height": 34,
     "output_extras": [
      {
       "item_id": 1
      }
     ]
    },
    "colab_type": "code",
    "executionInfo": {
     "elapsed": 1708,
     "status": "ok",
     "timestamp": 1521642651206,
     "user": {
      "displayName": "Rayno Mostert",
      "photoUrl": "https://lh3.googleusercontent.com/a/default-user=s128",
      "userId": "107056986412592388577"
     },
     "user_tz": -120
    },
    "id": "603ip4bdSRRT",
    "outputId": "5d05b69f-4ab4-42af-ed72-aa8bd8bcff48"
   },
   "outputs": [
    {
     "data": {
      "text/plain": [
       "True"
      ]
     },
     "execution_count": 105,
     "metadata": {},
     "output_type": "execute_result"
    }
   ],
   "source": [
    "card6 = Card(11, 2)\n",
    "card7 = Card(11, 1)\n",
    "card8 = Card(8, 3)\n",
    "card9 = Card(11, 0)\n",
    "\n",
    "# TEST - MUST BE TRUE:\n",
    "three_of_a_kind([card6, card7, card8, card2, card9])"
   ]
  },
  {
   "cell_type": "code",
   "execution_count": null,
   "metadata": {
    "colab": {
     "autoexec": {
      "startup": false,
      "wait_interval": 0
     }
    },
    "colab_type": "code",
    "deletable": false,
    "editable": false,
    "id": "Q4Ao5M_RSRRd",
    "nbgrader": {
     "checksum": "156e78cd168dc0bdc67e05501e3f239f",
     "grade": true,
     "grade_id": "cell-246944a793b99081",
     "locked": true,
     "points": 1,
     "schema_version": 1,
     "solution": false
    }
   },
   "outputs": [],
   "source": []
  },
  {
   "cell_type": "markdown",
   "metadata": {
    "colab_type": "text",
    "id": "-Qkhp0RQVPbo"
   },
   "source": [
    "## Question 8: Two Pair\n",
    "\n",
    "***\n",
    "**Important:**\n",
    "You need to pass the tests (obtain a `True` result [for all of the tests](#tests_q1)) in Question 1, in order to be able to continue with this question.\n",
    "\n",
    "***\n",
    "\n",
    "A ***[two pair](https://en.wikipedia.org/wiki/List_of_poker_hands#Two_pair)*** is a poker hand that has **2** cards of the **same rank**, another **2** cards of **another rank**, and **1** card of a third rank (AKA _the kicker_), for example:\n",
    "- a _**3** of hearts_,    a _**3** of diamonds_, a _**2** of clubs_, a _**2** of spades_, a _**8** of hearts_ (the kicker)\n",
    "- a _**jack**_ of spades, a _**jack** of diamonds_, a _**king** of clubs_, a _**king*** of spades_, a _**9*** of clubs_ (the kicker)\n",
    "\n",
    "Write a function, **`two_pair(cards)`**, that:\n",
    "- takes as an argument a `list` of `Cards`\n",
    "- `returns` $\\ $ `True` $\\ $ if the `list` of `Cards` is a $\\ $ **`two pair`** $\\ $ \n",
    "- `returns` $\\ $ `False` $\\ $ if the `list` of `Cards` is NOT a $\\ $ **`two pair`** $\\ $ "
   ]
  },
  {
   "cell_type": "code",
   "execution_count": 106,
   "metadata": {
    "colab": {
     "autoexec": {
      "startup": false,
      "wait_interval": 0
     }
    },
    "colab_type": "code",
    "deletable": false,
    "id": "MfC-jWL-VPb-",
    "nbgrader": {
     "checksum": "6f2bb21375f3318a127612eabfca3e69",
     "grade": false,
     "grade_id": "cell-a183103a8fcd435b",
     "locked": false,
     "schema_version": 1,
     "solution": true
    }
   },
   "outputs": [],
   "source": [
    "### START QUESTION 8\n",
    "\n",
    "def two_pair(cards):\n",
    "  \n",
    "    # YOUR CODE HERE\n",
    "    count = 0\n",
    "     \n",
    "    for card in range(len(cards)):\n",
    "        for card1 in range(len(cards)):\n",
    "            if card < card1:\n",
    "                if cards[card].rank == cards[card1].rank:\n",
    "                    count += 1\n",
    "                    \n",
    "    if count == 2:\n",
    "        return True\n",
    "    else:\n",
    "        return False\n",
    "        \n",
    "        raise NotImplementedError()\n",
    "    \n",
    "### END QUESTION 8"
   ]
  },
  {
   "cell_type": "markdown",
   "metadata": {
    "colab_type": "text",
    "id": "Gov_03aIVPcL"
   },
   "source": [
    "***\n",
    "***TESTS***: <br>\n",
    "\n",
    "Make sure that your code passes the following tests:"
   ]
  },
  {
   "cell_type": "code",
   "execution_count": 107,
   "metadata": {
    "colab": {
     "autoexec": {
      "startup": false,
      "wait_interval": 0
     },
     "base_uri": "https://localhost:8080/",
     "height": 34,
     "output_extras": [
      {
       "item_id": 1
      }
     ]
    },
    "colab_type": "code",
    "executionInfo": {
     "elapsed": 2998,
     "status": "ok",
     "timestamp": 1521642657654,
     "user": {
      "displayName": "Rayno Mostert",
      "photoUrl": "https://lh3.googleusercontent.com/a/default-user=s128",
      "userId": "107056986412592388577"
     },
     "user_tz": -120
    },
    "id": "Dowhy6mJVPcR",
    "outputId": "28fd04a5-bf39-4a8f-aa1c-3c74b864de2c"
   },
   "outputs": [
    {
     "data": {
      "text/plain": [
       "False"
      ]
     },
     "execution_count": 107,
     "metadata": {},
     "output_type": "execute_result"
    }
   ],
   "source": [
    "card1 = Card(8, 3)\n",
    "card2 = Card(9, 3)\n",
    "card3 = Card(10, 3)\n",
    "card4 = Card(11, 3)\n",
    "card5 = Card(12, 3)\n",
    "\n",
    "# TEST - MUST BE FALSE:\n",
    "two_pair([card1, card2, card3, card4, card5])"
   ]
  },
  {
   "cell_type": "code",
   "execution_count": 108,
   "metadata": {
    "colab": {
     "autoexec": {
      "startup": false,
      "wait_interval": 0
     },
     "base_uri": "https://localhost:8080/",
     "height": 34,
     "output_extras": [
      {
       "item_id": 1
      }
     ]
    },
    "colab_type": "code",
    "executionInfo": {
     "elapsed": 1498,
     "status": "ok",
     "timestamp": 1521642659312,
     "user": {
      "displayName": "Rayno Mostert",
      "photoUrl": "https://lh3.googleusercontent.com/a/default-user=s128",
      "userId": "107056986412592388577"
     },
     "user_tz": -120
    },
    "id": "Yssi2k2pVPcb",
    "outputId": "eecacefc-43af-489e-9318-4c7816ee2ee4"
   },
   "outputs": [
    {
     "data": {
      "text/plain": [
       "True"
      ]
     },
     "execution_count": 108,
     "metadata": {},
     "output_type": "execute_result"
    }
   ],
   "source": [
    "card6 = Card(11, 2)\n",
    "card7 = Card(11, 1)\n",
    "card8 = Card(8, 3)\n",
    "card9 = Card(11, 0)\n",
    "\n",
    "# TEST - MUST BE TRUE:\n",
    "two_pair([card6, card7, card8, card1, card3])"
   ]
  },
  {
   "cell_type": "code",
   "execution_count": null,
   "metadata": {
    "colab": {
     "autoexec": {
      "startup": false,
      "wait_interval": 0
     }
    },
    "colab_type": "code",
    "deletable": false,
    "editable": false,
    "id": "1B57dkZuVPck",
    "nbgrader": {
     "checksum": "6af72dd14a8aba978413d86a6829573b",
     "grade": true,
     "grade_id": "cell-c8bba3fa4c0c8351",
     "locked": true,
     "points": 1,
     "schema_version": 1,
     "solution": false
    }
   },
   "outputs": [],
   "source": []
  },
  {
   "cell_type": "markdown",
   "metadata": {
    "colab_type": "text",
    "id": "p6EPC3yrYeeL"
   },
   "source": [
    "## Question 9: One Pair\n",
    "\n",
    "***\n",
    "**Important:**\n",
    "You need to pass the tests (obtain a `True` result [for all of the tests](#tests_q1)) in Question 1, in **Question 1**, in order to be able to continue with this question.\n",
    "\n",
    "***\n",
    "\n",
    "A ***[one pair](https://en.wikipedia.org/wiki/List_of_poker_hands#Two_pair)*** is a poker hand that has **2** cards of the **same rank**, and **3** cards of other ranks (the kickers), for example:\n",
    "- a _**3** of hearts_, a _*3** of diamonds_, a _**2** of clubs_, a _**6** of spades_, a _**8** of hearts_ (the kicker)\n",
    "- a _**jack** of spades_, a _**jack** of diamonds_, a _**king** of clubs_, a _**queen** of spades_, a _**9** of clubs_ (the kicker)\n",
    "\n",
    "Write a function, **`one_pair(cards)`**, that:\n",
    "- takes as an argument a `list` of `Cards`\n",
    "- `returns` $\\ $ `True` $\\ $ if the `list` of `Cards` is a $\\ $ **`one pair`** $\\ $\n",
    "- `returns` $\\ $ `False` $\\ $ if the `list` of `Cards` is NOT a $\\ $ **`one pair`** $\\ $."
   ]
  },
  {
   "cell_type": "code",
   "execution_count": 109,
   "metadata": {
    "colab": {
     "autoexec": {
      "startup": false,
      "wait_interval": 0
     }
    },
    "colab_type": "code",
    "deletable": false,
    "id": "8-Rz3TfVYeeZ",
    "nbgrader": {
     "checksum": "af818e5031cb7bae11fa3d38ed03cef0",
     "grade": false,
     "grade_id": "cell-c83a74b558e53360",
     "locked": false,
     "schema_version": 1,
     "solution": true
    }
   },
   "outputs": [],
   "source": [
    "### START QUESTION 9\n",
    "\n",
    "def one_pair(cards):\n",
    "  \n",
    "    # YOUR CODE HERE\n",
    "    count = 0\n",
    "     \n",
    "    for card in range(len(cards)):\n",
    "        for card1 in range(len(cards)):\n",
    "            if card != card1:\n",
    "                if cards[card].rank == cards[card1].rank:\n",
    "                    count += 1\n",
    "                    \n",
    "    if count == 2:\n",
    "        return True\n",
    "    else:\n",
    "        return False\n",
    "        raise NotImplementedError()\n",
    "    \n",
    "### END QUESTION 9"
   ]
  },
  {
   "cell_type": "markdown",
   "metadata": {
    "colab_type": "text",
    "id": "Pq8XqULuYeet"
   },
   "source": [
    "***\n",
    "***TESTS***: <br>\n",
    "\n",
    "Make sure that your code passes the following tests:"
   ]
  },
  {
   "cell_type": "code",
   "execution_count": 110,
   "metadata": {
    "colab": {
     "autoexec": {
      "startup": false,
      "wait_interval": 0
     },
     "base_uri": "https://localhost:8080/",
     "height": 34,
     "output_extras": [
      {
       "item_id": 1
      }
     ]
    },
    "colab_type": "code",
    "executionInfo": {
     "elapsed": 1378,
     "status": "ok",
     "timestamp": 1521642663912,
     "user": {
      "displayName": "Rayno Mostert",
      "photoUrl": "https://lh3.googleusercontent.com/a/default-user=s128",
      "userId": "107056986412592388577"
     },
     "user_tz": -120
    },
    "id": "hv8z37R_Yeex",
    "outputId": "c55299cf-225f-4cc6-ddfb-dfa5dcec7215"
   },
   "outputs": [
    {
     "data": {
      "text/plain": [
       "False"
      ]
     },
     "execution_count": 110,
     "metadata": {},
     "output_type": "execute_result"
    }
   ],
   "source": [
    "card1 = Card(8, 3)\n",
    "card2 = Card(9, 3)\n",
    "card3 = Card(10, 3)\n",
    "card4 = Card(11, 3)\n",
    "card5 = Card(12, 3)\n",
    "\n",
    "# TEST - MUST BE FALSE:\n",
    "one_pair([card1, card2, card3, card4, card5])"
   ]
  },
  {
   "cell_type": "code",
   "execution_count": 111,
   "metadata": {
    "colab": {
     "autoexec": {
      "startup": false,
      "wait_interval": 0
     },
     "base_uri": "https://localhost:8080/",
     "height": 34,
     "output_extras": [
      {
       "item_id": 1
      }
     ]
    },
    "colab_type": "code",
    "executionInfo": {
     "elapsed": 1470,
     "status": "ok",
     "timestamp": 1521642665530,
     "user": {
      "displayName": "Rayno Mostert",
      "photoUrl": "https://lh3.googleusercontent.com/a/default-user=s128",
      "userId": "107056986412592388577"
     },
     "user_tz": -120
    },
    "id": "ghuYyieLYee8",
    "outputId": "ce7d4bab-6366-4ad6-f6cd-4b2a13065bcb"
   },
   "outputs": [
    {
     "data": {
      "text/plain": [
       "True"
      ]
     },
     "execution_count": 111,
     "metadata": {},
     "output_type": "execute_result"
    }
   ],
   "source": [
    "card6 = Card(11, 2)\n",
    "card7 = Card(11, 1)\n",
    "card8 = Card(8, 3)\n",
    "card9 = Card(11, 0)\n",
    "\n",
    "# TEST - MUST BE TRUE:\n",
    "one_pair([card6, card7, card8, card2, card3])"
   ]
  },
  {
   "cell_type": "code",
   "execution_count": null,
   "metadata": {
    "colab": {
     "autoexec": {
      "startup": false,
      "wait_interval": 0
     }
    },
    "colab_type": "code",
    "deletable": false,
    "editable": false,
    "id": "jyiSC7DqYefD",
    "nbgrader": {
     "checksum": "216ac3f0462f037755acfa3a405a9b93",
     "grade": true,
     "grade_id": "cell-1c4bea9fa4bcda60",
     "locked": true,
     "points": 1,
     "schema_version": 1,
     "solution": false
    }
   },
   "outputs": [],
   "source": []
  },
  {
   "cell_type": "markdown",
   "metadata": {
    "colab_type": "text",
    "id": "S2CaQ7hm0c9Q"
   },
   "source": [
    "![Royal Flush](https://upload.wikimedia.org/wikipedia/commons/d/d8/Royal_Flush_w.jpg)\n",
    "\n",
    "## Question 10: Straight Flush\n",
    "\n",
    "***\n",
    "**Important:**\n",
    "You need to pass the tests (obtain a `True` result [for all of the tests](#tests_q1)) in Question 1, in order to be able to continue with this question.\n",
    "\n",
    "***\n",
    "\n",
    "A ***[straight flush](https://en.wikipedia.org/wiki/List_of_poker_hands#Straight_flush)*** has **5** cards from the **same suit** of **consequential rank**, e.g. (3, 4, 5, 6, 7), or (10, jack, queen, king, ace) - i.e. ace is high-ranking. Also note that, in this example, (queen, king, ace, 2, 3) is NOT A STRAIGHT HAND.\n",
    "<br><br>\n",
    "\n",
    "Write a function, **`straight_flush(cards)`**, that:\n",
    "- takes as an argument a `list` of `Cards`\n",
    "- `returns` $\\ $ `True` $\\ $ if the `list` of `Cards` is a straight flush\n",
    "- `returns` $\\ $ `False` $\\ $ if the `list` of `Cards` is NOT a straight flush\n",
    "\n",
    "***"
   ]
  },
  {
   "cell_type": "code",
   "execution_count": 112,
   "metadata": {
    "colab": {
     "autoexec": {
      "startup": false,
      "wait_interval": 0
     }
    },
    "colab_type": "code",
    "deletable": false,
    "id": "zkFu596i0c9l",
    "nbgrader": {
     "checksum": "a8b83b69b70743d86561301ee516ef17",
     "grade": false,
     "grade_id": "cell-9a079b99f86b713f",
     "locked": false,
     "schema_version": 1,
     "solution": true
    }
   },
   "outputs": [],
   "source": [
    "### START QUESTION 10\n",
    "\n",
    "def straight_flush(cards):\n",
    "  \n",
    "    # YOUR CODE HERE\n",
    "    if is_flush(cards) == is_straight(cards):\n",
    "        return True\n",
    "    else:\n",
    "        return False\n",
    "        raise NotImplementedError()\n",
    "    \n",
    "### END QUESTION 10"
   ]
  },
  {
   "cell_type": "markdown",
   "metadata": {
    "colab_type": "text",
    "id": "3356meh-0c91"
   },
   "source": [
    "***\n",
    "***TESTS***: <br>\n",
    "\n",
    "Make sure that your code passes the following tests:"
   ]
  },
  {
   "cell_type": "code",
   "execution_count": 113,
   "metadata": {
    "colab": {
     "autoexec": {
      "startup": false,
      "wait_interval": 0
     },
     "base_uri": "https://localhost:8080/",
     "height": 34,
     "output_extras": [
      {
       "item_id": 1
      }
     ]
    },
    "colab_type": "code",
    "executionInfo": {
     "elapsed": 1370,
     "status": "ok",
     "timestamp": 1521642670642,
     "user": {
      "displayName": "Rayno Mostert",
      "photoUrl": "https://lh3.googleusercontent.com/a/default-user=s128",
      "userId": "107056986412592388577"
     },
     "user_tz": -120
    },
    "id": "y0g9Q3dg0c97",
    "outputId": "c7416e4c-2308-44ec-e8af-5e26ba33c296"
   },
   "outputs": [
    {
     "data": {
      "text/plain": [
       "True"
      ]
     },
     "execution_count": 113,
     "metadata": {},
     "output_type": "execute_result"
    }
   ],
   "source": [
    "card1 = Card(13, 3)\n",
    "card2 = Card(11, 3)\n",
    "card3 = Card(9, 3)\n",
    "card4 = Card(12, 3)\n",
    "card5 = Card(10, 3)\n",
    "\n",
    "# TEST - MUST BE TRUE:\n",
    "straight_flush([card1, card2, card3, card4, card5])"
   ]
  },
  {
   "cell_type": "code",
   "execution_count": 114,
   "metadata": {
    "colab": {
     "autoexec": {
      "startup": false,
      "wait_interval": 0
     },
     "base_uri": "https://localhost:8080/",
     "height": 34,
     "output_extras": [
      {
       "item_id": 1
      }
     ]
    },
    "colab_type": "code",
    "executionInfo": {
     "elapsed": 1562,
     "status": "ok",
     "timestamp": 1521642672414,
     "user": {
      "displayName": "Rayno Mostert",
      "photoUrl": "https://lh3.googleusercontent.com/a/default-user=s128",
      "userId": "107056986412592388577"
     },
     "user_tz": -120
    },
    "id": "pSLDWK7c0c-G",
    "outputId": "c6047f59-c209-4a9c-ba70-04a21936cc63"
   },
   "outputs": [
    {
     "data": {
      "text/plain": [
       "False"
      ]
     },
     "execution_count": 114,
     "metadata": {},
     "output_type": "execute_result"
    }
   ],
   "source": [
    "card6 = Card(7, 2)\n",
    "card7 = Card(6, 1)\n",
    "\n",
    "# TEST - MUST BE FALSE:\n",
    "straight_flush([card1, card2, card3, card6, card7])"
   ]
  },
  {
   "cell_type": "code",
   "execution_count": null,
   "metadata": {
    "colab": {
     "autoexec": {
      "startup": false,
      "wait_interval": 0
     }
    },
    "colab_type": "code",
    "deletable": false,
    "editable": false,
    "id": "HZdJze-A0c-P",
    "nbgrader": {
     "checksum": "da2f71299c49aaa5f6da2f7d9100272d",
     "grade": true,
     "grade_id": "cell-fa09ba51789fee2d",
     "locked": true,
     "points": 1,
     "schema_version": 1,
     "solution": false
    }
   },
   "outputs": [],
   "source": []
  },
  {
   "cell_type": "markdown",
   "metadata": {},
   "source": [
    "# End of Marked questions\n",
    "You may continue working on these questions if you wish to. They will not be marked with the autograder. \n",
    "\n",
    "**REMEMBER** you cannot have any errors in your cells when you submit to the autograder."
   ]
  },
  {
   "cell_type": "markdown",
   "metadata": {
    "colab_type": "text",
    "id": "MlTdhbvO3FUU"
   },
   "source": [
    "## Royal Flush\n",
    "\n",
    "A ***[royal flush](https://en.wikipedia.org/wiki/List_of_poker_hands#Straight_flush)*** is just a straight flush with the highest card being an *Ace*. By setting up the Highest Card check (up next), we'll be able to rank a royal flush above a straight flush.\n",
    "<br><br>"
   ]
  },
  {
   "cell_type": "markdown",
   "metadata": {
    "colab_type": "text",
    "id": "icQG1rPufk_6"
   },
   "source": [
    "## For Fun! Question 11: Highest Single Card\n",
    "\n",
    "***\n",
    "**Important:**\n",
    "You need to pass the tests (obtain a `True` result for all of the tests) in **Question 1**, in order to be able to continue with this question.\n",
    "\n",
    "***\n",
    "\n",
    "A ***kicker*** is a card that is used to break ties between poker hands of the same rank. E.g:\n",
    "- **3** of hearts,    **3** of diamonds, ***2*** of clubs (kicker), ***6*** of spades (kicker), ***8*** of hearts (kicker)\n",
    "- **jack** of spades, **jack** of diamonds, ***king*** of clubs, ***king*** of spades, ***9*** of clubs (the kicker)\n",
    "\n",
    "Write a function, **`highest_single_card(cards)`**, that:\n",
    "- takes as an argument a `list` of `Card`s, and then\n",
    "- `return`s the highest rank of the single cards in the list (i.e. those cards that do not form part of a rank pair, triple or quad),\n",
    "- `return`s **`0`** if there are no single cards in the list.\n",
    "\n",
    "\n",
    "For example:\n",
    "- for a list of cards: \n",
    "  - **9** of hearts,    \n",
    "  - **9** of diamonds,\n",
    "  - ***2*** of clubs,\n",
    "  - ***6*** of spades,\n",
    "  - ***8*** of hearts\n",
    "<br>your function should `return` **`8`** (the highest rank of the single cards)\n",
    "- for a list of cards: \n",
    "  - **jack** of spades,    \n",
    "  - **jack** of diamonds,\n",
    "  - ***king*** of clubs,\n",
    "  - ***king*** of spades,\n",
    "  - ***queen*** of hearts\n",
    "<br>your function should `return` **`12`** (a.k.a 'queen' - the highest rank of the single cards)"
   ]
  },
  {
   "cell_type": "code",
   "execution_count": null,
   "metadata": {
    "colab": {
     "autoexec": {
      "startup": false,
      "wait_interval": 0
     }
    },
    "colab_type": "code",
    "deletable": false,
    "id": "o9UlOyArflAF",
    "nbgrader": {
     "checksum": "406b355c9ec64c92f736558ba70ed3cc",
     "grade": false,
     "grade_id": "cell-de9b1be8c4ce63d6",
     "locked": false,
     "schema_version": 1,
     "solution": true
    }
   },
   "outputs": [],
   "source": [
    "### START QUESTION 11\n",
    "\n",
    "def highest_single_card(cards):\n",
    "  \n",
    "    # YOUR CODE HERE\n",
    "    raise NotImplementedError()\n",
    "    \n",
    "### END QUESTION 11"
   ]
  },
  {
   "cell_type": "markdown",
   "metadata": {
    "colab_type": "text",
    "id": "y6r_6vkIflAS"
   },
   "source": [
    "***\n",
    "***TESTS***: <br>\n",
    "\n",
    "Make sure that your code passes the following tests:"
   ]
  },
  {
   "cell_type": "code",
   "execution_count": null,
   "metadata": {
    "colab": {
     "autoexec": {
      "startup": false,
      "wait_interval": 0
     },
     "base_uri": "https://localhost:8080/",
     "height": 34,
     "output_extras": [
      {
       "item_id": 1
      }
     ]
    },
    "colab_type": "code",
    "executionInfo": {
     "elapsed": 1916,
     "status": "ok",
     "timestamp": 1521642677530,
     "user": {
      "displayName": "Rayno Mostert",
      "photoUrl": "https://lh3.googleusercontent.com/a/default-user=s128",
      "userId": "107056986412592388577"
     },
     "user_tz": -120
    },
    "id": "ELmaIXNKflAW",
    "outputId": "17957af6-c18b-4224-a8bb-3afda58d93c1"
   },
   "outputs": [],
   "source": [
    "card1 = Card(8, 3)\n",
    "card2 = Card(9, 3)\n",
    "card3 = Card(10, 3)\n",
    "card4 = Card(11, 3)\n",
    "card5 = Card(12, 3)\n",
    "\n",
    "# TEST - MUST RETURN 12:\n",
    "highest_single_card([card1, card2, card3, card4, card5])"
   ]
  },
  {
   "cell_type": "code",
   "execution_count": null,
   "metadata": {
    "colab": {
     "autoexec": {
      "startup": false,
      "wait_interval": 0
     },
     "base_uri": "https://localhost:8080/",
     "height": 34,
     "output_extras": [
      {
       "item_id": 1
      }
     ]
    },
    "colab_type": "code",
    "executionInfo": {
     "elapsed": 1126,
     "status": "ok",
     "timestamp": 1521642678822,
     "user": {
      "displayName": "Rayno Mostert",
      "photoUrl": "https://lh3.googleusercontent.com/a/default-user=s128",
      "userId": "107056986412592388577"
     },
     "user_tz": -120
    },
    "id": "V7Cz0iPGflAp",
    "outputId": "deac6e88-5d80-4b49-d614-b785ce776015"
   },
   "outputs": [],
   "source": [
    "card6 = Card(11, 2)\n",
    "card7 = Card(11, 1)\n",
    "card8 = Card(8, 3)\n",
    "card9 = Card(11, 0)\n",
    "card10 = Card(11, 0)\n",
    "\n",
    "# TEST - MUST RETURN 10:\n",
    "highest_single_card([card6, card7, card8, card9, card10])"
   ]
  },
  {
   "cell_type": "code",
   "execution_count": null,
   "metadata": {
    "colab": {
     "autoexec": {
      "startup": false,
      "wait_interval": 0
     }
    },
    "colab_type": "code",
    "deletable": false,
    "editable": false,
    "id": "0IULOtGdflA4",
    "nbgrader": {
     "checksum": "84da5fa1abcc0bb4c077de418df46a22",
     "grade": true,
     "grade_id": "cell-863729b84160d89e",
     "locked": true,
     "points": 1,
     "schema_version": 1,
     "solution": false
    }
   },
   "outputs": [],
   "source": []
  },
  {
   "cell_type": "markdown",
   "metadata": {
    "colab_type": "text",
    "id": "Hkj4tLGPzNQB"
   },
   "source": [
    "## For Fun! Scoring\n",
    "\n",
    "***\n",
    "**Important:**\n",
    "You need to pass the tests (obtain a `True` result for all of the tests) in **Questions 1 up to 9**, in order to be able to continue with this question.\n",
    "\n",
    "***\n",
    "\n",
    "In the game of poker, the list of hands (i.e. 5-card combinations), rank as follows (from highest rank to lowest):\n",
    "- Royal flush\n",
    "- Straight flush\n",
    "- Four of a kind\n",
    "- Full house\n",
    "- Flush\n",
    "- Straight\n",
    "- Three of a kind\n",
    "- Two pair\n",
    "- One pair\n",
    "\n",
    "![Hand Rankings](https://upload.wikimedia.org/wikipedia/commons/thumb/1/1c/Poker_Hand_Rankings_Chart.jpg/457px-Poker_Hand_Rankings_Chart.jpg)\n",
    "\n",
    "In this example we'll then use the highest single card as a tie breaker."
   ]
  },
  {
   "cell_type": "code",
   "execution_count": null,
   "metadata": {
    "colab": {
     "autoexec": {
      "startup": false,
      "wait_interval": 0
     }
    },
    "colab_type": "code",
    "id": "9zqzDQvszNQV"
   },
   "outputs": [],
   "source": [
    "def who_wins(hand1, hand2):\n",
    "    hand_ranking_categories = [straight_flush, four_of_a_kind, full_house, is_flush, is_straight, three_of_a_kind, two_pair, one_pair]\n",
    "\n",
    "    hand_1_categories = [category(hand1.cards) for category in hand_ranking_categories]\n",
    "    hand_2_categories = [category(hand2.cards) for category in hand_ranking_categories]\n",
    "\n",
    "    print(hand_1_categories)\n",
    "    print(hand_2_categories)\n",
    "\n",
    "    hand_1_categories.append(True)\n",
    "    hand_2_categories.append(True)\n",
    "\n",
    "    if hand_1_categories.index(True) < hand_2_categories.index(True):\n",
    "        return 'Hand 1 wins'\n",
    "\n",
    "    elif hand_1_categories.index(True) > hand_2_categories.index(True):\n",
    "        return 'Hand 2 wins'\n",
    "\n",
    "\n",
    "    if highest_single_card(hand1.cards) > highest_single_card(hand2.cards):\n",
    "        return 'Tie.  Hand 1 wins via highest kicker...'\n",
    "    elif highest_single_card(hand1.cards) < highest_single_card(hand2.cards):\n",
    "        return 'Tie.  Hand 2 wins via highest kicker...'\n",
    "    else:\n",
    "        return 'Tie...'"
   ]
  },
  {
   "cell_type": "markdown",
   "metadata": {
    "colab_type": "text",
    "id": "XrG9EVEj_-J4"
   },
   "source": [
    "# For Fun! Let's Play!\n",
    "\n",
    "First create a deck and shuffle it:"
   ]
  },
  {
   "cell_type": "code",
   "execution_count": null,
   "metadata": {
    "colab": {
     "autoexec": {
      "startup": false,
      "wait_interval": 0
     }
    },
    "colab_type": "code",
    "id": "meYVDtKjADSE"
   },
   "outputs": [],
   "source": [
    "deck = [Card(r, s) for r in range(13) for s in range(4)]\n",
    "random.shuffle(deck)"
   ]
  },
  {
   "cell_type": "markdown",
   "metadata": {
    "colab_type": "text",
    "id": "0tlIyQ82AF64"
   },
   "source": [
    "Now create two hands, and deal out 5 cards to each:"
   ]
  },
  {
   "cell_type": "code",
   "execution_count": null,
   "metadata": {
    "colab": {
     "autoexec": {
      "startup": false,
      "wait_interval": 0
     }
    },
    "colab_type": "code",
    "id": "smramIhKzNQk"
   },
   "outputs": [],
   "source": [
    "hand1 = Hand()\n",
    "hand2 = Hand()\n",
    "\n",
    "for i in range(10):\n",
    "    card = deck[i]\n",
    "\n",
    "    if i % 2 == 0:\n",
    "        hand1.deal(card)\n",
    "    else:\n",
    "        hand2.deal(card)"
   ]
  },
  {
   "cell_type": "code",
   "execution_count": null,
   "metadata": {
    "colab": {
     "autoexec": {
      "startup": false,
      "wait_interval": 0
     },
     "base_uri": "https://localhost:8080/",
     "height": 34,
     "output_extras": [
      {
       "item_id": 1
      }
     ]
    },
    "colab_type": "code",
    "executionInfo": {
     "elapsed": 1188,
     "status": "ok",
     "timestamp": 1521642686936,
     "user": {
      "displayName": "Rayno Mostert",
      "photoUrl": "https://lh3.googleusercontent.com/a/default-user=s128",
      "userId": "107056986412592388577"
     },
     "user_tz": -120
    },
    "id": "RmyvAXmFzNQy",
    "outputId": "45e6bf1a-4070-4a50-fcf8-de0522bcb325"
   },
   "outputs": [],
   "source": [
    "hand1"
   ]
  },
  {
   "cell_type": "code",
   "execution_count": null,
   "metadata": {
    "colab": {
     "autoexec": {
      "startup": false,
      "wait_interval": 0
     },
     "base_uri": "https://localhost:8080/",
     "height": 34,
     "output_extras": [
      {
       "item_id": 1
      }
     ]
    },
    "colab_type": "code",
    "executionInfo": {
     "elapsed": 1760,
     "status": "ok",
     "timestamp": 1521642688982,
     "user": {
      "displayName": "Rayno Mostert",
      "photoUrl": "https://lh3.googleusercontent.com/a/default-user=s128",
      "userId": "107056986412592388577"
     },
     "user_tz": -120
    },
    "id": "OxLALnkVAh14",
    "outputId": "45a0a56f-25c0-4adc-8754-8243802475f6"
   },
   "outputs": [],
   "source": [
    "hand2"
   ]
  },
  {
   "cell_type": "markdown",
   "metadata": {
    "colab_type": "text",
    "id": "pTbalfWeA900"
   },
   "source": [
    "Now we can see who has the winning hand:"
   ]
  },
  {
   "cell_type": "code",
   "execution_count": null,
   "metadata": {
    "colab": {
     "autoexec": {
      "startup": false,
      "wait_interval": 0
     },
     "base_uri": "https://localhost:8080/",
     "height": 69,
     "output_extras": [
      {
       "item_id": 1
      },
      {
       "item_id": 2
      }
     ]
    },
    "colab_type": "code",
    "executionInfo": {
     "elapsed": 1408,
     "status": "ok",
     "timestamp": 1521642690520,
     "user": {
      "displayName": "Rayno Mostert",
      "photoUrl": "https://lh3.googleusercontent.com/a/default-user=s128",
      "userId": "107056986412592388577"
     },
     "user_tz": -120
    },
    "id": "Al8moYyMAjFd",
    "outputId": "03df748d-cb7d-4b98-8592-84b40d07bd11"
   },
   "outputs": [],
   "source": [
    "who_wins(hand1, hand2)"
   ]
  },
  {
   "cell_type": "markdown",
   "metadata": {},
   "source": [
    "## For Fun! Calculating Probabilities\n",
    "In order to be good at Poker, you need to understand probability theory. We're now going to investigate the probability of a specific hand being dealt - assuming our simplified version of poker where each player is just dealt 5 cards at random.\n",
    "\n",
    "We can start by figuring out all the possible 5-card combinations dealt from a pack of 52 cards:"
   ]
  },
  {
   "cell_type": "code",
   "execution_count": null,
   "metadata": {},
   "outputs": [],
   "source": [
    "deck = [Card(r, s) for r in range(13) for s in range(4)]\n",
    "\n",
    "from itertools import combinations\n",
    "combs = combinations(deck, 5)\n",
    "combs = list(combs)"
   ]
  },
  {
   "cell_type": "markdown",
   "metadata": {},
   "source": [
    "So, we see that there are possible 5-card combinations dealt from a 52-card deck:"
   ]
  },
  {
   "cell_type": "code",
   "execution_count": null,
   "metadata": {},
   "outputs": [],
   "source": [
    "len(combs)"
   ]
  },
  {
   "cell_type": "markdown",
   "metadata": {},
   "source": [
    "Next, let's only keep the combinations that are **straight flushes**:"
   ]
  },
  {
   "cell_type": "code",
   "execution_count": null,
   "metadata": {},
   "outputs": [],
   "source": [
    "straight_flushes = [c for c in combs if straight_flush(c)]"
   ]
  },
  {
   "cell_type": "markdown",
   "metadata": {},
   "source": [
    "Count how many there are:"
   ]
  },
  {
   "cell_type": "code",
   "execution_count": null,
   "metadata": {},
   "outputs": [],
   "source": [
    "len(straight_flushes)"
   ]
  },
  {
   "cell_type": "markdown",
   "metadata": {},
   "source": [
    "Only $\\ 36\\ $ straight flushes out of a total of $\\ 2 598 960\\ $ 5-card combinations!\n",
    "\n",
    "So the probability of you being dealt a straigth flush is a miniscule $ 0.00001385$."
   ]
  },
  {
   "cell_type": "code",
   "execution_count": null,
   "metadata": {},
   "outputs": [],
   "source": [
    "len(straight_flushes)/len(combs)"
   ]
  },
  {
   "cell_type": "markdown",
   "metadata": {},
   "source": [
    "Put differently, you'll - on average - need to deal $\\ 72\\  193\\ $ 5-card hands before ever seeing a single straight flush!"
   ]
  },
  {
   "cell_type": "code",
   "execution_count": null,
   "metadata": {},
   "outputs": [],
   "source": [
    "len(combs)/len(straight_flushes)"
   ]
  }
 ],
 "metadata": {
  "colab": {
   "collapsed_sections": [
    "U-IbPbM7-8ml",
    "YKcPm71H_SDc",
    "4VoWy_1bx5s4",
    "uyKL2NV6SRQy"
   ],
   "default_view": {},
   "name": "Poker_Project.ipynb",
   "provenance": [],
   "version": "0.3.2",
   "views": {}
  },
  "kernelspec": {
   "display_name": "Python 3",
   "language": "python",
   "name": "python3"
  },
  "language_info": {
   "codemirror_mode": {
    "name": "ipython",
    "version": 3
   },
   "file_extension": ".py",
   "mimetype": "text/x-python",
   "name": "python",
   "nbconvert_exporter": "python",
   "pygments_lexer": "ipython3",
   "version": "3.6.5"
  },
  "toc": {
   "base_numbering": 1,
   "nav_menu": {},
   "number_sections": true,
   "sideBar": true,
   "skip_h1_title": false,
   "title_cell": "Table of Contents",
   "title_sidebar": "Contents",
   "toc_cell": false,
   "toc_position": {},
   "toc_section_display": true,
   "toc_window_display": true
  }
 },
 "nbformat": 4,
 "nbformat_minor": 1
}
